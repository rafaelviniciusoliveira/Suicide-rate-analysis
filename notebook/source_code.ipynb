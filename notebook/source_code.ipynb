{
  "nbformat": 4,
  "nbformat_minor": 0,
  "metadata": {
    "colab": {
      "name": "trabalho 1 CD.ipynb",
      "provenance": [],
      "collapsed_sections": [],
      "toc_visible": true
    },
    "kernelspec": {
      "name": "python3",
      "display_name": "Python 3"
    }
  },
  "cells": [
    {
      "cell_type": "markdown",
      "metadata": {
        "id": "_iMSiGLtcOsH"
      },
      "source": [
        "#Trabalho da disciplina de ciência de dados\n",
        "---\n",
        "## 1. dataset\n",
        "A base de dados foi retirada deste link:\n",
        "https://www.kaggle.com/russellyates88/suicide-rates-overview-1985-to-2016\n",
        "## 2. objetivos do trabalho\n",
        "O objetivo do trabalho é fazer uma análise de dados sobre um conjunto de dados de suicícios que ocorreram entre os anos de 1985 à 2016."
      ]
    },
    {
      "cell_type": "markdown",
      "metadata": {
        "id": "nFJ8EwE-TgvX"
      },
      "source": [
        "##3. Descrição da base de dados:\n",
        "\n",
        "A base de dados junta todos os dados de suicídios registrados que ocorreram entre os anos 1985 à 2016 como país de origem, sexo, faixa etária, renda etc. A tabela possui 27820 linhas x 12 colunas."
      ]
    },
    {
      "cell_type": "markdown",
      "metadata": {
        "id": "oi23klyj5QTP"
      },
      "source": [
        "### vamos começar importando todos as bibliotecas necessárias"
      ]
    },
    {
      "cell_type": "code",
      "metadata": {
        "id": "b30vLQAR6dLw"
      },
      "source": [
        "# Instalação do Dash\n",
        "!pip install dash\n",
        "!pip install dash-html-components\n",
        "!pip install dash-core-components\n",
        "!pip install dash-table"
      ],
      "execution_count": null,
      "outputs": []
    },
    {
      "cell_type": "code",
      "metadata": {
        "id": "3jJnhSB45ipV"
      },
      "source": [
        "# Pacotes para criação de processos para suportar o serviço URL externo do Ngrok\n",
        "import os.path\n",
        "import sys, json\n",
        "import requests\n",
        "import subprocess\n",
        "\n",
        "# Pacotes de tratamento de URL\n",
        "from requests.exceptions import RequestException\n",
        "from requests.adapters import HTTPAdapter\n",
        "from requests.packages.urllib3.util.retry import Retry\n",
        "\n",
        "from collections import namedtuple"
      ],
      "execution_count": 2,
      "outputs": []
    },
    {
      "cell_type": "code",
      "metadata": {
        "id": "OTjCXrXKIVFS"
      },
      "source": [
        "# Definição da função de Download do Ngrok\n",
        "def download_ngrok():\n",
        "    if not os.path.isfile('ngrok'):\n",
        "        !wget https://bin.equinox.io/c/4VmDzA7iaHb/ngrok-stable-linux-amd64.zip\n",
        "        !unzip -o ngrok-stable-linux-amd64.zip\n",
        "    pass"
      ],
      "execution_count": 3,
      "outputs": []
    },
    {
      "cell_type": "code",
      "metadata": {
        "id": "rU41Zqo6IdNh"
      },
      "source": [
        "# Criação de um Túnel entre uma aplicação no Colab e uma URL externa no Ngrok\n",
        "# Função para pegar a referência nesse túnel\n",
        "\n",
        "Response = namedtuple('Response', ['url', 'error'])\n",
        "\n",
        "def get_tunnel():\n",
        "    try:\n",
        "        Tunnel = subprocess.Popen(['./ngrok','http','8050'])\n",
        "\n",
        "        session = requests.Session()\n",
        "        retry = Retry(connect=3, backoff_factor=0.5)\n",
        "        adapter = HTTPAdapter(max_retries=retry)\n",
        "        session.mount('http://', adapter)\n",
        "\n",
        "        res = session.get('http://localhost:4040/api/tunnels')\n",
        "        res.raise_for_status()\n",
        "\n",
        "        tunnel_str = res.text\n",
        "        tunnel_cfg = json.loads(tunnel_str)\n",
        "        tunnel_url = tunnel_cfg['tunnels'][0]['public_url']\n",
        "\n",
        "        return Response(url=tunnel_url, error=None)\n",
        "    except RequestException as e:\n",
        "        return Response(url=None, error=str(e))"
      ],
      "execution_count": 4,
      "outputs": []
    },
    {
      "cell_type": "code",
      "metadata": {
        "id": "ZXhmX4DJ51iX",
        "colab": {
          "base_uri": "https://localhost:8080/"
        },
        "outputId": "f3283ff0-54ea-4af3-8cde-55bf6bd97941"
      },
      "source": [
        "%%writefile dash1.py\n",
        "import dash\n",
        "import dash_core_components as dcc\n",
        "import dash_html_components as html\n",
        "import plotly.express as px\n",
        "import pandas as pd\n",
        "import seaborn as sns\n",
        "import matplotlib.pyplot as plt\n",
        "\n",
        "external_stylesheets = ['https://codepen.io/chriddyp/pen/bWLwgP.css']\n",
        "\n",
        "app = dash.Dash(__name__, external_stylesheets=external_stylesheets)\n",
        "\n",
        "# MUNDO\n",
        "tabela = pd.read_csv('/content/master.csv')\n",
        "\n",
        "tabela2 = tabela.groupby(by=['country','year'], as_index=False)[\"suicides_no\"].sum()\n",
        "\n",
        "tabela3 = tabela.groupby(by='country', as_index=False)['suicides_no'].sum() \n",
        "\n",
        "group1 = tabela.groupby(by=['sex'], as_index=False)[\"suicides_no\"].sum()\n",
        "\n",
        "group2 = tabela.groupby(by=['age'], as_index=False)[\"suicides_no\"].sum()\n",
        "\n",
        "group3 = tabela.groupby(by=['generation'], as_index=False)[\"suicides_no\"].sum()\n",
        "\n",
        "my_map = px.scatter_geo(tabela2, \n",
        "                        locations='country',\n",
        "                        locationmode = 'country names',\n",
        "                        size = 'suicides_no',\n",
        "                        animation_frame = 'year',\n",
        "                        projection='natural earth',\n",
        "                        color = 'country',\n",
        "                        title = 'Suicide number over the years in the world')\n",
        "\n",
        "my_map2 = px.scatter_geo(tabela3, \n",
        "                        locations='country',\n",
        "                        locationmode = 'country names',\n",
        "                        size = 'suicides_no',\n",
        "                        projection='natural earth',\n",
        "                        color = 'country',\n",
        "                        title = 'Total suicide numbers in the world')\n",
        "\n",
        "pie_1 = px.pie(group1, values='suicides_no', names='sex', color='sex', \n",
        "               title='Gráfico de seção mostrando como o número total de suicídos em função do sexo')\n",
        "\n",
        "pie_2 = px.pie(group2, values='suicides_no', names='age', color='age', \n",
        "               title='Gráfico de seção mostrando como o número total de suicídos em função da faixa etária')\n",
        "\n",
        "pie_3 = px.pie(group3, values='suicides_no', names='generation', color='generation', \n",
        "               title='Gráfico de seção mostrando como o número total de suicídos em função da geração')\n",
        "\n",
        "# TABELA E GRAFICOS BRAZIL\n",
        "tabela_brazil = tabela.loc[tabela['country']=='Brazil']\n",
        "\n",
        "tabela_brazil = tabela_brazil.loc[tabela_brazil.index.repeat(tabela_brazil['suicides_no'])].reset_index(drop=True)\n",
        "\n",
        "fig1 = px.histogram(tabela_brazil,x ='sex',color='sex',\n",
        "                    title='Proporção de suicídios no Brasil de acordo com o sexo')\n",
        "\n",
        "fig3 = px.histogram(tabela_brazil,x ='age',color='sex',\n",
        "                    title='Proporção de suicídios no Brasil de acordo com a faixa etária')\n",
        "\n",
        "fig5 = px.histogram(tabela_brazil,x ='year',color='year',\n",
        "                    title='Suicícos no Brasil ao longo dos anos')\n",
        "\n",
        "# TABELA E GRAFICOS RUSSIA\n",
        "tabela_USA = tabela.loc[tabela['country']=='Russian Federation']\n",
        "tabela_USA = tabela_USA.loc[tabela_USA.index.repeat(tabela_USA['suicides_no'])].reset_index(drop=True)\n",
        "\n",
        "fig2 = px.histogram(tabela_USA,x ='sex',color='sex',\n",
        "                    title='Proporção de suicídios no Brasil de acordo com o sexo')\n",
        "\n",
        "fig4 = px.histogram(tabela_USA,x ='age',color='sex',\n",
        "                    title='Proporção de suicídios no Brasil de acordo com a faixa etária')\n",
        "\n",
        "fig6 = px.histogram(tabela_USA,x ='year',color='year',\n",
        "                    title='Suicídos na Russia ao longo dos anos')\n",
        "\n",
        "intro = '''\n",
        "### Introdução\n",
        "O trabalho tem como objetivo fazer uma análise de dados dos suicidos \n",
        "registrado entre os anos de 1985 até 2016.\n",
        "'''\n",
        "world = '''\n",
        "### No mundo\n",
        "Os gráficos à seguir mostra dados referente ao mundo inteiro.\n",
        "'''\n",
        "Russia = '''\n",
        "### Na Russia\n",
        "Os gráficos à seguir são referentes a Russia, que possui o maior \n",
        "número de suicídios registrados entre todos os países do mundo, aproximamente 15% do total.\n",
        "'''\n",
        "brazil = '''\n",
        "### No Brasil\n",
        "'''\n",
        "\n",
        "app.layout = html.Div(children=[\n",
        "    html.H1(\n",
        "        children='Data Analisis about Suicides',\n",
        "        style={\n",
        "            'textAlign': 'center',\n",
        "            #'color': colors['text']\n",
        "        }),\n",
        "\n",
        "    dcc.Markdown(children=intro),\n",
        "\n",
        "    dcc.Markdown(children=world),\n",
        "    \n",
        "    html.Div(children=[\n",
        "      dcc.Graph(\n",
        "          id='pie_1',\n",
        "          figure=pie_1,\n",
        "      ),\n",
        "      dcc.Graph(\n",
        "          id='pie_2',\n",
        "          figure=pie_2,\n",
        "      ),\n",
        "      dcc.Graph(\n",
        "          id='pie_3',\n",
        "          figure=pie_3,\n",
        "      )\n",
        "    ]),\n",
        "  \n",
        "    html.Div(children=[\n",
        "      dcc.Graph(\n",
        "          id='my_map',\n",
        "          figure=my_map\n",
        "      ),\n",
        "      dcc.Graph(\n",
        "          id='my_map2',\n",
        "          figure=my_map2\n",
        "      ),\n",
        "    ]),\n",
        "\n",
        "    dcc.Markdown(children=Russia),\n",
        "\n",
        "    html.Div(children=[\n",
        "      dcc.Graph(\n",
        "          id='hist_1',\n",
        "          figure=fig2,\n",
        "      ),\n",
        "      dcc.Graph(\n",
        "          id='hist_2',\n",
        "          figure=fig4,\n",
        "      ),\n",
        "      dcc.Graph(\n",
        "          id='hist_3',\n",
        "          figure=fig6,\n",
        "      )\n",
        "    ]),\n",
        "\n",
        "    dcc.Markdown(children=brazil),\n",
        "\n",
        "    html.Div(children=[\n",
        "      dcc.Graph(\n",
        "          id='hist_4',\n",
        "          figure=fig1,\n",
        "      ),\n",
        "      dcc.Graph(\n",
        "          id='hist_5',\n",
        "          figure=fig3,\n",
        "      ),\n",
        "      dcc.Graph(\n",
        "          id='hist_6',\n",
        "          figure=fig5,\n",
        "      )\n",
        "    ]),\n",
        "  \n",
        "    \n",
        "])\n",
        "\n",
        "if __name__ == '__main__':\n",
        "    app.run_server(debug=True)"
      ],
      "execution_count": 30,
      "outputs": [
        {
          "output_type": "stream",
          "text": [
            "Overwriting dash1.py\n"
          ],
          "name": "stdout"
        }
      ]
    },
    {
      "cell_type": "code",
      "metadata": {
        "id": "mxc4FGhr7NTq"
      },
      "source": [
        "download_ngrok()"
      ],
      "execution_count": null,
      "outputs": []
    },
    {
      "cell_type": "code",
      "metadata": {
        "id": "avI3vfZG7aCR"
      },
      "source": [
        "retorno = get_tunnel()\n",
        "print(retorno)  # Para podermos saber o endereço da URL da Aplicação\n",
        "!python dash1.py"
      ],
      "execution_count": null,
      "outputs": []
    }
  ]
}